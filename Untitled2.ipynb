{
  "nbformat": 4,
  "nbformat_minor": 0,
  "metadata": {
    "colab": {
      "provenance": [],
      "toc_visible": true
    },
    "kernelspec": {
      "name": "python3",
      "display_name": "Python 3"
    },
    "language_info": {
      "name": "python"
    }
  },
  "cells": [
    {
      "cell_type": "code",
      "source": [
        "my_list=[100,12,36,45,9]\n",
        "list_new=[]\n",
        "for item in my_list:\n",
        "  list_new.append(item+2)\n",
        "print(\"list_new:\",list_new)\n",
        "print(\"my_list:\",my_list)\n"
      ],
      "metadata": {
        "id": "eKhpxMW82dmA",
        "colab": {
          "base_uri": "https://localhost:8080/"
        },
        "outputId": "a8ecbade-0050-4852-a164-7752f05e4754"
      },
      "execution_count": null,
      "outputs": [
        {
          "output_type": "stream",
          "name": "stdout",
          "text": [
            "list_new: [102, 14, 38, 47, 11]\n",
            "my_list: [100, 12, 36, 45, 9]\n"
          ]
        }
      ]
    },
    {
      "cell_type": "code",
      "source": [
        "new_list=[4,15,79,46,225]\n",
        "list_man=[x+2 for x in new_list]\n",
        "print(\"list_man:\",list_man)\n",
        "print(\"new_list:\",new_list)"
      ],
      "metadata": {
        "colab": {
          "base_uri": "https://localhost:8080/"
        },
        "id": "x_iliKwKvFN1",
        "outputId": "7636e528-9d88-49b8-def1-48baf31596d5"
      },
      "execution_count": null,
      "outputs": [
        {
          "output_type": "stream",
          "name": "stdout",
          "text": [
            "list_man: [6, 17, 81, 48, 227]\n",
            "new_list: [4, 15, 79, 46, 225]\n"
          ]
        }
      ]
    },
    {
      "cell_type": "code",
      "source": [
        "name = input(\"esmeto begoo\")\n",
        "esmeto begoo:\"shahin\"\n",
        "if name == omid:\n",
        "    print(\"salam omid!\")\n",
        "elif name != omid:\n",
        "    print(\"salam doostam!\")\n",
        "else :\n",
        "    print(\"salam gharibe!\")\n"
      ],
      "metadata": {
        "id": "agNlxjCF0gpN"
      },
      "execution_count": null,
      "outputs": []
    },
    {
      "cell_type": "code",
      "source": [
        "n=flaot(input(\"please inter a number\"))\n",
        "if x<0 :\n",
        "  print(\"out of range\")\n",
        "elif x<10 :\n",
        "  print(\"failed\")\n",
        "elif x<12 :\n",
        "  print(\"conditional\")\n",
        "elif x<=20 :\n",
        "  print(\"passed\")\n",
        "else :\n",
        "  print(\"out of range\")"
      ],
      "metadata": {
        "id": "ixO5Rx7BLdhf"
      },
      "execution_count": null,
      "outputs": []
    },
    {
      "cell_type": "code",
      "source": [
        "from google.colab import drive\n",
        "drive.mount('/content/drive')"
      ],
      "metadata": {
        "id": "ifubZS2xApNx"
      },
      "execution_count": null,
      "outputs": []
    },
    {
      "cell_type": "code",
      "source": [],
      "metadata": {
        "id": "YyAUre00Y1wH"
      },
      "execution_count": null,
      "outputs": []
    }
  ]
}